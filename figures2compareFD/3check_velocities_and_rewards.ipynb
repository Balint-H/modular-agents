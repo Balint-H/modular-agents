{
 "cells": [
  {
   "cell_type": "code",
   "execution_count": null,
   "id": "ed671e04",
   "metadata": {},
   "outputs": [],
   "source": [
    "import pandas as pd\n",
    "import numpy as np\n",
    "import pylab as plt\n",
    "\n",
    "\n",
    "commonaxis = [20, 120, 10, 70]"
   ]
  },
  {
   "cell_type": "code",
   "execution_count": null,
   "id": "bd4a79fb",
   "metadata": {},
   "outputs": [],
   "source": [
    "ObsFD=pd.read_csv('logPoseObsRewards21.csv', sep=',') #after fixing (more or less) the double joints\n",
    "\n",
    "ObsFD.columns"
   ]
  },
  {
   "cell_type": "code",
   "execution_count": null,
   "id": "e3c9c5c5",
   "metadata": {},
   "outputs": [],
   "source": [
    "reward_column_names = [ x for x in ObsFD.columns if x.find(\"reward\") > -1 ]\n",
    "reward_column_names"
   ]
  },
  {
   "cell_type": "code",
   "execution_count": null,
   "id": "75993f89",
   "metadata": {},
   "outputs": [],
   "source": [
    "len(ObsFD['reward_velocity_RewardsPupet'])"
   ]
  },
  {
   "cell_type": "code",
   "execution_count": null,
   "id": "30717d2c",
   "metadata": {},
   "outputs": [],
   "source": [
    "\n",
    "#plt.plot(ObsFD['time'],  ObsFD['reward_pose_RewardsPupet'], 'r', label='reward pose pupet')\n",
    "#plt.plot(ObsFD['time'],  ObsFD['reward_pose_RewardsFD'] + 0.05, '--r', label='reward pose FD')\n",
    "fig, axs = plt.subplots(2, figsize=(15, 15), dpi=300)\n",
    "\n",
    "start = 0\n",
    "end = 300\n",
    "\n",
    "axs[0].plot(ObsFD['time'][start:end],  ObsFD['reward_velocity_RewardsPupet'][start:end], 'g', label='reward velocity pupet')\n",
    "#plt.title(\"Velocity Rewards Comparison\")\n",
    "axs[0].legend(loc='lower right')\n",
    "\n",
    "axs[1].plot(ObsFD['time'][start:end],  ObsFD['reward_velocity_RewardsFD'][start:end] , '--g', label='reward velocity FD')\n",
    "plt.xlabel(\"time\")\n",
    "plt.legend(loc='lower right')\n",
    "\n",
    "\n",
    "#plt.plot(ObsFD['time'],  ObsFD['reward_com_RewardsPupet'], 'b', label='reward com pupet')\n",
    "#plt.plot(ObsFD['time'],  ObsFD['reward_com_RewardsFD'] + 0.05, '--b', label='reward com FD')\n",
    "\n",
    "\n",
    "#plt.plot(ObsFD['time'],  ObsFD['reward_global_RewardsPupet'], 'k', label='reward global pupet')\n",
    "#plt.plot(ObsFD['time'],  ObsFD['reward_global_RewardsFD'], '--k', label='reward global FD')\n",
    "\n"
   ]
  },
  {
   "cell_type": "code",
   "execution_count": null,
   "id": "865d9450",
   "metadata": {},
   "outputs": [],
   "source": [
    "FDQPos_column_names = [ x for x in ObsFD.columns if x.find(\"FD_QVel\") > -1 ]\n",
    "len(FDQPos_column_names)"
   ]
  },
  {
   "cell_type": "code",
   "execution_count": null,
   "id": "f554d209",
   "metadata": {},
   "outputs": [],
   "source": [
    "PupetQPos_column_names = [ x for x in ObsFD.columns if x.find(\"Pupet_QVel\") > -1 ]\n",
    "len(PupetQPos_column_names)"
   ]
  },
  {
   "cell_type": "code",
   "execution_count": null,
   "id": "819e7155",
   "metadata": {},
   "outputs": [],
   "source": [
    "Obs_pos_column_names = [ x for x in ObsFD.columns if (x.find(\"DMObs\") > -1 and x.find(\"velocity\") > -1  and x.find(\"simpler\") == -1 )]\n",
    "Obs_pos_column_names"
   ]
  },
  {
   "cell_type": "code",
   "execution_count": null,
   "id": "9feb4bb8",
   "metadata": {},
   "outputs": [],
   "source": [
    "\n",
    "my_column_names = [ x for x in ObsFD.columns if (x.find(\"QVel\") > -1  \n",
    "                                                    )]\n",
    "my_column_names"
   ]
  },
  {
   "cell_type": "code",
   "execution_count": null,
   "id": "57bf73d8",
   "metadata": {},
   "outputs": [],
   "source": [
    "balls2plot = ['lfemur','rfemur',\n",
    " 'lowerback',\n",
    " 'thorax',\n",
    " 'head',\n",
    " 'lhumerus', 'rhumerus']\n",
    "\n",
    "hinges2plot = ['ltibiarx','lradiusrx', 'rtibiarx','rradiusrx'] # 4\n",
    "pairedhinges2plot = [['lfootrx','' ,'lfootrz'],\n",
    "                     ['rfootrx','' ,'rfootrz'],\n",
    "                     ['' , 'upperbackry','upperbackrz'],\n",
    "                     ['','lclaviclery' , 'lclaviclerz'],\n",
    "                     ['','rclaviclery' , 'rclaviclerz']] #5"
   ]
  },
  {
   "cell_type": "code",
   "execution_count": null,
   "id": "6138ee80",
   "metadata": {},
   "outputs": [],
   "source": [
    "\n",
    "\n",
    "start = 20\n",
    "end = 300\n",
    "\n",
    "numplots = 4\n",
    "fig, axs = plt.subplots(numplots, 2, figsize=(30, 40), dpi=300)\n",
    "\n",
    "si = 0\n",
    "sj =0\n",
    "for bone in balls2plot :\n",
    "\n",
    "    bone_nameFD = \"FD_QVel_\"+bone+\"r_\"\n",
    "    bone_namePupet = \"Pupet_QVel_K_\"+bone+\"r_\"\n",
    "    \n",
    "\n",
    "    axs[si,sj].plot(ObsFD['time'][start:end], ObsFD[bone_nameFD+'x'            ][start:end] , 'r', label='x FD')\n",
    "    axs[si,sj].plot(ObsFD['time'][start:end],  ObsFD[bone_namePupet+'x'     ][start:end] , '--r', label='x pupet')\n",
    "\n",
    "    \n",
    "    axs[si,sj].plot(ObsFD['time'][start:end], ObsFD[bone_nameFD+'y'            ][start:end] , 'g', label='y FD')\n",
    "    axs[si,sj].plot(ObsFD['time'][start:end],  ObsFD[bone_namePupet+'y'     ][start:end] , '--g', label='y pupet')\n",
    "\n",
    "    \n",
    "    axs[si,sj].plot(ObsFD['time'][start:end], ObsFD[bone_nameFD+'z'            ][start:end] , 'b', label='z FD')\n",
    "    axs[si,sj].plot(ObsFD['time'][start:end],  ObsFD[bone_namePupet+'z'     ][start:end] , '--b', label='z pupet')\n",
    "\n",
    "    \n",
    "    title = \"comparison of FD and pupet QVel for \" + bone\n",
    "    \n",
    "    axs[si,sj].title.set_text(title)\n",
    "    \n",
    "    si +=1\n",
    "    if(si >= numplots):\n",
    "        si=0\n",
    "        sj+=1\n",
    "        \n",
    "\n",
    "axs[0,1].legend(loc=\"upper right\")\n",
    "#plt.title(\" Comparison of Poses for Ball joints using the two methods\")\n",
    "\n",
    "\n",
    "\n"
   ]
  },
  {
   "cell_type": "code",
   "execution_count": null,
   "id": "f645fd64",
   "metadata": {},
   "outputs": [],
   "source": [
    "numplots = 3\n",
    "fig, axs = plt.subplots(numplots, 3, figsize=(30, 40), dpi=300)\n",
    "\n",
    "si = 0\n",
    "sj =0\n",
    "for bone in hinges2plot :\n",
    "\n",
    "    bone_nameFD = \"FD_QVel_\"+bone\n",
    "    bone_namePupet = \"Pupet_QVel_K_\"+bone\n",
    "    \n",
    "\n",
    "    axs[si,sj].plot(ObsFD['time'][start:end], ObsFD[bone_nameFD          ][start:end] , 'r', label='x FD')\n",
    "    axs[si,sj].plot(ObsFD['time'][start:end],  ObsFD[bone_namePupet    ][start:end] , '--r', label='x pupet')\n",
    "\n",
    "    \n",
    "    title = \"comparison of FD and pupet qVel for \" + bone\n",
    "    axs[si,sj].legend(loc = \"upper right\")\n",
    "    axs[si,sj].title.set_text(title)\n",
    "    #print(\"simple hinges: \" + str(si)  + \" \"  + str(sj))\n",
    "    si +=1\n",
    "    if(si >= numplots):\n",
    "        si=0\n",
    "        sj+=1\n",
    "        \n",
    "\n",
    "for bones in pairedhinges2plot :\n",
    "\n",
    "    boneindex = [0,1,2]\n",
    "    colors = ['r','g','b']\n",
    "    legendFD = ['x FD','y FD','z FD']\n",
    "    legendPupet = ['x Pupet','y Pupet','z Pupet']\n",
    "    for bi in boneindex:\n",
    "        if( len(bones[bi]) > 0):\n",
    "            bone = bones[bi]\n",
    "            #print(\"drawing \"+ bone + \" index: \" + str(bi) + \"legend: \" + legendFD[bi])\n",
    "            \n",
    "            bone_nameFD = \"FD_QVel_\"+bone\n",
    "            bone_namePupet = \"Pupet_QVel_K_\"+bone\n",
    "\n",
    "\n",
    "            axs[si,sj].plot(ObsFD['time'][start:end], ObsFD[bone_nameFD          ][start:end] , colors[bi], label = legendFD[bi])\n",
    "            axs[si,sj].plot(ObsFD['time'][start:end],  ObsFD[bone_namePupet    ][start:end] , '--'+colors[bi], label = legendPupet[bi])\n",
    "\n",
    "    title = \"comparison of FD and pupet qVel for \" + bone\n",
    "    #print(\"double indices: \" + str(si)  + \" \"  + str(sj))  \n",
    "    axs[si,sj].title.set_text(title)\n",
    "    axs[si,sj].legend(loc = \"upper right\")\n",
    "    si +=1\n",
    "    if(si >= numplots):\n",
    "        si=0\n",
    "        sj+=1\n",
    "   \n",
    "   \n"
   ]
  }
 ],
 "metadata": {
  "kernelspec": {
   "display_name": "Python 3 (ipykernel)",
   "language": "python",
   "name": "python3"
  },
  "language_info": {
   "codemirror_mode": {
    "name": "ipython",
    "version": 3
   },
   "file_extension": ".py",
   "mimetype": "text/x-python",
   "name": "python",
   "nbconvert_exporter": "python",
   "pygments_lexer": "ipython3",
   "version": "3.8.16"
  }
 },
 "nbformat": 4,
 "nbformat_minor": 5
}
