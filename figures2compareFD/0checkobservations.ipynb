{
 "cells": [
  {
   "cell_type": "code",
   "execution_count": null,
   "id": "ed671e04",
   "metadata": {},
   "outputs": [],
   "source": [
    "import pandas as pd\n",
    "import numpy as np\n",
    "import pylab as plt\n",
    "\n",
    "\n",
    "commonaxis = [20, 120, 10, 70]"
   ]
  },
  {
   "cell_type": "code",
   "execution_count": null,
   "id": "bd4a79fb",
   "metadata": {},
   "outputs": [],
   "source": [
    "\n",
    "\n",
    "#df=pd.read_csv('distance-test-results.csv', sep=',',header=0)\n",
    "ObsFD=pd.read_csv('ObsRecordingFD.csv', sep=',')\n",
    "ObsPupet=pd.read_csv('ObsRecordingPupet.csv', sep=',')\n",
    "\n",
    "\n",
    "ObsFD.columns"
   ]
  },
  {
   "cell_type": "code",
   "execution_count": null,
   "id": "e3c9c5c5",
   "metadata": {},
   "outputs": [],
   "source": [
    "ObsFD.columns[1]"
   ]
  },
  {
   "cell_type": "code",
   "execution_count": null,
   "id": "865d9450",
   "metadata": {},
   "outputs": [],
   "source": [
    "#draw all in 1 plot\n",
    "\n",
    "\n",
    "plt.figure(figsize=(15, 80), dpi=300)\n",
    "\n",
    "rowi = range(1, len(ObsFD.columns)-2,3 )\n",
    "#rowi = range(1, 8,3 )\n",
    "for i in rowi :\n",
    "    maxincol = max(ObsFD[ObsFD.columns[i]])\n",
    "\n",
    "    plt.plot(ObsFD['time'], i*3 + ObsFD[ObsFD.columns[i]]/maxincol, 'r', label='x')\n",
    "    plt.plot(ObsPupet['time'], i*3 + ObsPupet[ObsPupet.columns[i]]/maxincol+0.5, '--r', label='x')\n",
    "\n",
    "    maxincol = max(ObsFD[ObsFD.columns[i+1]])\n",
    "    plt.plot(ObsFD['time'], i*3 + ObsFD[ObsFD.columns[i+1]]/maxincol + 1, 'g', label='y')\n",
    "    plt.plot(ObsPupet['time'], i*3 + ObsPupet[ObsPupet.columns[i+1]]/maxincol +1.5  , '--g', label='y')\n",
    "\n",
    "    plt.plot(ObsFD['time'], i*3 + ObsFD[ObsFD.columns[i+1]]/maxincol + 2, 'b', label='y')\n",
    "    plt.plot(ObsPupet['time'], i*3 + ObsPupet[ObsPupet.columns[i+1]]/maxincol + 2.5, '--b', label='z')\n",
    "\n",
    "    \n",
    "\n",
    "plt.title(\"Walk Mujoco SPD DReCon NoState \\n Average joint angular error per pose \")\n",
    "plt.xlabel(\"time\")\n",
    "ylist = [float(x)*3+1 for x in rowi ]\n",
    "\n",
    "plt.yticks(ylist,ObsFD.columns[rowi] ) \n"
   ]
  },
  {
   "cell_type": "code",
   "execution_count": null,
   "id": "f554d209",
   "metadata": {},
   "outputs": [],
   "source": [
    "(len(ObsFD.columns) -2 )/ 3\n",
    "\n"
   ]
  },
  {
   "cell_type": "code",
   "execution_count": null,
   "id": "23cec1cc",
   "metadata": {},
   "outputs": [],
   "source": [
    "#fref= plt.figure(figsize=(15, 80), dpi=300)\n",
    "\n",
    "#draw 10* 3 observations\n",
    "\n",
    "numplots = 10\n",
    "\n",
    "fig, axs = plt.subplots(numplots, figsize=(15, 80), dpi=300)\n",
    "\n",
    "\n",
    "rowi = range(1, 3 * numplots,3 )\n",
    "si = 0\n",
    "for i in rowi :\n",
    "    height =  max (ObsFD[ObsFD.columns[i]]) - min (ObsFD[ObsFD.columns[i]])\n",
    "\n",
    "    \n",
    "    axs[si].plot(ObsFD['time'], i*3 + ObsFD[ObsFD.columns[i]] + 2 * height , 'r', label='x FD')\n",
    "    axs[si].plot(ObsPupet['time'], i*3 + ObsPupet[ObsPupet.columns[i]] + height , '--r', label='x pupet')\n",
    "\n",
    "    #maxincol = max(ObsFD[ObsFD.columns[i+1]])\n",
    "    axs[si].plot(ObsFD['time'], i*3 + ObsFD[ObsFD.columns[i+1]]  , 'g', label='y FD')\n",
    "    axs[si].plot(ObsPupet['time'], i*3 + ObsPupet[ObsPupet.columns[i+1]] -1 * height , '--g', label='y pupet')\n",
    "\n",
    "    axs[si].plot(ObsFD['time'], i*3 + ObsFD[ObsFD.columns[i+1]] -2 * height, 'b', label='z FD')\n",
    "    axs[si].plot(ObsPupet['time'], i*3 + ObsPupet[ObsPupet.columns[i+1]]  - 3 * height, '--b', label='z pupet')\n",
    "\n",
    "    \n",
    "    axs[si].set(ylabel=ObsFD.columns[i])\n",
    "    si +=1\n",
    "\n",
    "plt.title(\" Comparison of Observations\")\n",
    "\n",
    "axs[0].legend(loc='upper left')"
   ]
  },
  {
   "cell_type": "code",
   "execution_count": null,
   "id": "57bf73d8",
   "metadata": {},
   "outputs": [],
   "source": [
    "\n",
    "#draw all observations in subplots\n",
    "\n",
    "numplots = 20\n",
    "\n",
    "fig, axs = plt.subplots(numplots, 4, figsize=(120, 80), dpi=300)\n",
    "\n",
    "\n",
    "rowi = range(1, len(ObsFD.columns)-2,3 )\n",
    "si = 0\n",
    "sj =0\n",
    "for i in rowi :\n",
    "    height =  max (ObsFD[ObsFD.columns[i]]) - min (ObsFD[ObsFD.columns[i]])\n",
    "\n",
    "    \n",
    "    axs[si,sj].plot(ObsFD['time'],  ObsFD[ObsFD.columns[i]] + 2 * height , 'r', label='x FD')\n",
    "    axs[si,sj].plot(ObsPupet['time'],  ObsPupet[ObsPupet.columns[i]] + height , '--r', label='x pupet')\n",
    "\n",
    "    height =  max (ObsFD[ObsFD.columns[i+1]]) - min (ObsFD[ObsFD.columns[i+1]])\n",
    "    axs[si,sj].plot(ObsFD['time'], ObsFD[ObsFD.columns[i+1]]  , 'g', label='y FD')\n",
    "    axs[si,sj].plot(ObsPupet['time'],  ObsPupet[ObsPupet.columns[i+1]] -1 * height , '--g', label='y pupet')\n",
    "\n",
    "    height =  max (ObsFD[ObsFD.columns[i+2]]) - min (ObsFD[ObsFD.columns[i+2]])\n",
    "    axs[si,sj].plot(ObsFD['time'], ObsFD[ObsFD.columns[i+1]] -2 * height, 'b', label='z FD')\n",
    "    axs[si,sj].plot(ObsPupet['time'],  ObsPupet[ObsPupet.columns[i+1]]  - 3 * height, '--b', label='z pupet')\n",
    "\n",
    "    \n",
    "    axs[si,sj].set(xlabel=ObsFD.columns[i])\n",
    "    si +=1\n",
    "    if(si >= numplots):\n",
    "        si=0\n",
    "        sj+=1\n",
    "        \n",
    "\n",
    "plt.title(\" Comparison of Observations\")\n",
    "\n",
    "axs[0,0].legend(loc='upper left')"
   ]
  },
  {
   "cell_type": "code",
   "execution_count": null,
   "id": "6138ee80",
   "metadata": {},
   "outputs": [],
   "source": []
  },
  {
   "cell_type": "code",
   "execution_count": null,
   "id": "f645fd64",
   "metadata": {},
   "outputs": [],
   "source": []
  }
 ],
 "metadata": {
  "kernelspec": {
   "display_name": "Python 3 (ipykernel)",
   "language": "python",
   "name": "python3"
  },
  "language_info": {
   "codemirror_mode": {
    "name": "ipython",
    "version": 3
   },
   "file_extension": ".py",
   "mimetype": "text/x-python",
   "name": "python",
   "nbconvert_exporter": "python",
   "pygments_lexer": "ipython3",
   "version": "3.8.16"
  }
 },
 "nbformat": 4,
 "nbformat_minor": 5
}
