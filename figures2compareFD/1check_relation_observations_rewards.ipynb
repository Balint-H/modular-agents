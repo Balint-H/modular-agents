{
 "cells": [
  {
   "cell_type": "code",
   "execution_count": null,
   "id": "ed671e04",
   "metadata": {},
   "outputs": [],
   "source": [
    "import pandas as pd\n",
    "import numpy as np\n",
    "import pylab as plt\n",
    "\n",
    "\n",
    "commonaxis = [20, 120, 10, 70]"
   ]
  },
  {
   "cell_type": "code",
   "execution_count": null,
   "id": "bd4a79fb",
   "metadata": {},
   "outputs": [],
   "source": [
    "#ObsFD=pd.read_csv('logPoseObsRewards15.csv', sep=',')\n",
    "#ObsFD=pd.read_csv('logPoseObsRewards14noanim.csv', sep=',')\n",
    "ObsFD=pd.read_csv('logPoseObsRewards15.csv', sep=',') #quaternions inversed\n",
    "ObsFD=pd.read_csv('logPoseObsRewards18.csv', sep=',') ##attempt to fix the problems in double joitns wihtout quaternion inversion\n",
    "ObsFD=pd.read_csv('logPoseObsRewards21.csv', sep=',') #after fixing (more or less) the double joints\n",
    "\n",
    "ObsFD.columns"
   ]
  },
  {
   "cell_type": "code",
   "execution_count": null,
   "id": "e3c9c5c5",
   "metadata": {},
   "outputs": [],
   "source": [
    "reward_column_names = [ x for x in ObsFD.columns if x.find(\"reward\") > -1 ]\n",
    "reward_column_names"
   ]
  },
  {
   "cell_type": "code",
   "execution_count": null,
   "id": "30717d2c",
   "metadata": {},
   "outputs": [],
   "source": [
    "plt.figure(figsize=(15, 30), dpi=300)\n",
    "\n",
    "plt.plot(ObsFD['time'],  ObsFD['reward_pose_RewardsPupet'], 'r', label='reward pose pupet')\n",
    "plt.plot(ObsFD['time'],  ObsFD['reward_pose_RewardsFD'] + 0.05, '--r', label='reward pose FD')\n",
    "\n",
    "plt.plot(ObsFD['time'],  ObsFD['reward_velocity_RewardsPupet'], 'g', label='reward velocity pupet')\n",
    "#plt.plot(ObsFD['time'],  ObsFD['reward_velocity_RewardsFD'] + 0.2, '--g', label='reward velocity FD')\n",
    "\n",
    "\n",
    "#plt.plot(ObsFD['time'],  ObsFD['reward_com_RewardsPupet'], 'b', label='reward com pupet')\n",
    "#plt.plot(ObsFD['time'],  ObsFD['reward_com_RewardsFD'] + 0.05, '--b', label='reward com FD')\n",
    "\n",
    "\n",
    "#plt.plot(ObsFD['time'],  ObsFD['reward_global_RewardsPupet'], 'k', label='reward global pupet')\n",
    "#plt.plot(ObsFD['time'],  ObsFD['reward_global_RewardsFD'], '--k', label='reward global FD')\n",
    "\n",
    "plt.xlabel(\"time\")\n",
    "plt.title(\" Rewards Comparison\")\n",
    "plt.legend(loc='lower right')\n",
    "\n"
   ]
  },
  {
   "cell_type": "code",
   "execution_count": null,
   "id": "865d9450",
   "metadata": {},
   "outputs": [],
   "source": [
    "FDQPos_column_names = [ x for x in ObsFD.columns if x.find(\"FD_QPos\") > -1 ]\n",
    "len(FDQPos_column_names)"
   ]
  },
  {
   "cell_type": "code",
   "execution_count": null,
   "id": "f554d209",
   "metadata": {},
   "outputs": [],
   "source": [
    "PupetQPos_column_names = [ x for x in ObsFD.columns if x.find(\"Pupet_QPos\") > -1 ]\n",
    "len(PupetQPos_column_names)"
   ]
  },
  {
   "cell_type": "code",
   "execution_count": null,
   "id": "819e7155",
   "metadata": {},
   "outputs": [],
   "source": [
    "Obs_pos_column_names = [ x for x in ObsFD.columns if (x.find(\"DMObs\") > -1 and x.find(\"position\") > -1  and x.find(\"simpler\") == -1 )]\n",
    "Obs_pos_column_names"
   ]
  },
  {
   "cell_type": "code",
   "execution_count": null,
   "id": "30fa60c0",
   "metadata": {},
   "outputs": [],
   "source": [
    "\n",
    "ltibia_column_names = [ x for x in ObsFD.columns if (x.find(\"QPos\") > -1  and x.find(\"rtibia\") > -1 and x.find(\"simpler\") == -1 )]\n",
    "ltibia_column_names"
   ]
  },
  {
   "cell_type": "code",
   "execution_count": null,
   "id": "01a9523f",
   "metadata": {},
   "outputs": [],
   "source": [
    "plt.figure(figsize=(15, 30), dpi=300)\n",
    "plt.plot(ObsFD['time'],  ObsFD['FD_QPos_ltibiarx'     ], 'r', label='ltibia qpos FD')\n",
    "plt.plot(ObsFD['time'],  ObsFD['Pupet_QPos_K_ltibiarx'], '--r', label='ltibia qpos Pupet')\n",
    "\n",
    "plt.xlabel(\"time\")\n",
    "plt.title(\" Comparison of ltibia qPos between methods\")\n",
    "plt.legend(loc='lower right')\n"
   ]
  },
  {
   "cell_type": "code",
   "execution_count": null,
   "id": "5526a4cf",
   "metadata": {},
   "outputs": [],
   "source": [
    "lfemur_column_names = [ x for x in ObsFD.columns if (x.find(\"QPos\") > -1  and x.find(\"lfemur\") > -1 and x.find(\"simpler\") == -1 )]\n",
    "lfemur_column_names\n",
    "\n",
    "\n",
    "\n",
    "\n",
    "\n"
   ]
  },
  {
   "cell_type": "code",
   "execution_count": null,
   "id": "7af7bcca",
   "metadata": {},
   "outputs": [],
   "source": [
    "plt.figure(figsize=(15, 30), dpi=300)\n",
    "plt.plot(ObsFD['time'],  - ObsFD['FD_QPos_lfemurr_x'     ], 'r', label='lfemur qpos x FD')\n",
    "plt.plot(ObsFD['time'],  ObsFD['Pupet_QPos_K_lfemurr_x'] , '--r', label='lfemur qpos x Pupet')\n",
    "\n",
    "plt.plot(ObsFD['time'],  - ObsFD['FD_QPos_lfemurr_y'     ], 'g', label='lfemur qpos y FD')\n",
    "plt.plot(ObsFD['time'],  ObsFD['Pupet_QPos_K_lfemurr_y'] , '--g', label='lfemur qpos y Pupet')\n",
    "\n",
    "plt.plot(ObsFD['time'],   - ObsFD['FD_QPos_lfemurr_z'     ], 'b', label='lfemur qpos z FD')\n",
    "plt.plot(ObsFD['time'],  ObsFD['Pupet_QPos_K_lfemurr_z'] , '--b', label='lfemur qpos z Pupet')\n",
    "\n",
    "plt.plot(ObsFD['time'],  - ObsFD['FD_QPos_lfemurr_w'     ], 'k', label='lfemur qpos w FD')\n",
    "plt.plot(ObsFD['time'],  ObsFD['Pupet_QPos_K_lfemurr_w'] , '--k', label='lfemur qpos w Pupet')\n",
    "\n",
    "\n",
    "\n",
    "\n",
    "\n",
    "\n",
    "plt.xlabel(\"time\")\n",
    "plt.title(\" Comparison of lfemur qPos between methods\")\n",
    "plt.legend(loc='lower right')"
   ]
  },
  {
   "cell_type": "code",
   "execution_count": null,
   "id": "d3d38428",
   "metadata": {},
   "outputs": [],
   "source": [
    "#thorax\n",
    "\n",
    "thorax_column_names = [ x for x in ObsFD.columns if (x.find(\"QPos\") > -1  and x.find(\"thorax\") > -1\n",
    "                                                    )]\n",
    "thorax_column_names\n"
   ]
  },
  {
   "cell_type": "code",
   "execution_count": null,
   "id": "53162a3c",
   "metadata": {},
   "outputs": [],
   "source": [
    "lclavicle_column_names = [ x for x in ObsFD.columns if (x.find(\"QPos\") > -1  and x.find(\"lclavicle\") > -1 )]\n",
    "lclavicle_column_names\n"
   ]
  },
  {
   "cell_type": "code",
   "execution_count": null,
   "id": "37aafae5",
   "metadata": {},
   "outputs": [],
   "source": [
    "plt.figure(figsize=(15, 30), dpi=300)\n",
    "plt.plot(ObsFD['time'], - ObsFD['FD_QPos_thoraxr_x'     ], 'r', label='thorax qpos x FD')\n",
    "plt.plot(ObsFD['time'],  ObsFD['Pupet_QPos_K_thoraxr_x'] , '--r', label='thorax qpos x Pupet')\n",
    "\n",
    "plt.plot(ObsFD['time'], - ObsFD['FD_QPos_thoraxr_y'     ], 'g', label='thorax qpos y FD')\n",
    "plt.plot(ObsFD['time'],  ObsFD['Pupet_QPos_K_thoraxr_y'] , '--g', label='thorax qpos y Pupet')\n",
    "\n",
    "plt.plot(ObsFD['time'], - ObsFD['FD_QPos_thoraxr_z'     ], 'b', label='thorax qpos z FD')\n",
    "plt.plot(ObsFD['time'],  ObsFD['Pupet_QPos_K_thoraxr_z'] , '--b', label='thorax qpos z Pupet')\n",
    "\n",
    "plt.plot(ObsFD['time'], - ObsFD['FD_QPos_thoraxr_w'     ], 'k', label='thorax qpos w FD')\n",
    "plt.plot(ObsFD['time'],  ObsFD['Pupet_QPos_K_thoraxr_w'] , '--k', label='thorax qpos w Pupet')\n",
    "\n",
    "\n",
    "\n",
    "\n",
    "\n",
    "\n",
    "plt.xlabel(\"time\")\n",
    "plt.title(\" Comparison of thorax qPos between methods\")\n",
    "plt.legend(loc='lower right')"
   ]
  },
  {
   "cell_type": "code",
   "execution_count": null,
   "id": "23cec1cc",
   "metadata": {},
   "outputs": [],
   "source": [
    " ObsFD['FD_QPos_thoraxr_w']"
   ]
  },
  {
   "cell_type": "code",
   "execution_count": null,
   "id": "9feb4bb8",
   "metadata": {},
   "outputs": [],
   "source": [
    "\n",
    "my_column_names = [ x for x in ObsFD.columns if (x.find(\"QPos\") > -1  \n",
    "                                                    )]\n",
    "my_column_names"
   ]
  },
  {
   "cell_type": "code",
   "execution_count": null,
   "id": "57bf73d8",
   "metadata": {},
   "outputs": [],
   "source": [
    "balls2plot = ['lfemur','rfemur',\n",
    " 'lowerback',\n",
    " 'thorax',\n",
    " 'head',\n",
    " 'lhumerus', 'rhumerus']\n",
    "\n",
    "hinges2plot = ['ltibiarx','lradiusrx', 'rtibiarx','rradiusrx'] # 4\n",
    "pairedhinges2plot = [['lfootrx','' ,'lfootrz'],\n",
    "                     ['rfootrx','' ,'rfootrz'],\n",
    "                     ['' , 'upperbackry','upperbackrz'],\n",
    "                     ['','lclaviclery' , 'lclaviclerz'],\n",
    "                     ['','rclaviclery' , 'rclaviclerz']] #5"
   ]
  },
  {
   "cell_type": "code",
   "execution_count": null,
   "id": "6138ee80",
   "metadata": {},
   "outputs": [],
   "source": [
    "numplots = 4\n",
    "fig, axs = plt.subplots(numplots, 2, figsize=(30, 40), dpi=300)\n",
    "\n",
    "si = 0\n",
    "sj =0\n",
    "for bone in balls2plot :\n",
    "\n",
    "    bone_nameFD = \"FD_QPos_\"+bone+\"r_\"\n",
    "    bone_namePupet = \"Pupet_QPos_K_\"+bone+\"r_\"\n",
    "    \n",
    "\n",
    "    axs[si,sj].plot(ObsFD['time'], ObsFD[bone_nameFD+'x'            ] , 'r', label='x FD')\n",
    "    axs[si,sj].plot(ObsFD['time'],  ObsFD[bone_namePupet+'x'     ] , '--r', label='x pupet')\n",
    "\n",
    "    \n",
    "    axs[si,sj].plot(ObsFD['time'], ObsFD[bone_nameFD+'y'            ] , 'g', label='y FD')\n",
    "    axs[si,sj].plot(ObsFD['time'],  ObsFD[bone_namePupet+'y'     ] , '--g', label='y pupet')\n",
    "\n",
    "    \n",
    "    axs[si,sj].plot(ObsFD['time'], ObsFD[bone_nameFD+'z'            ] , 'b', label='z FD')\n",
    "    axs[si,sj].plot(ObsFD['time'],  ObsFD[bone_namePupet+'z'     ] , '--b', label='z pupet')\n",
    "\n",
    "    \n",
    "    axs[si,sj].plot(ObsFD['time'], ObsFD[bone_nameFD+'w'            ] , 'k', label='w FD')\n",
    "    axs[si,sj].plot(ObsFD['time'],  ObsFD[bone_namePupet+'w'     ] , '--k', label='w pupet')\n",
    "\n",
    "    \n",
    "    title = \"comparison of FD and pupet qPos for \" + bone\n",
    "    \n",
    "    axs[si,sj].title.set_text(title)\n",
    "    \n",
    "    si +=1\n",
    "    if(si >= numplots):\n",
    "        si=0\n",
    "        sj+=1\n",
    "        \n",
    "\n",
    "axs[0,1].legend(loc=\"upper right\")\n",
    "#plt.title(\" Comparison of Poses for Ball joints using the two methods\")\n",
    "\n",
    "\n",
    "\n"
   ]
  },
  {
   "cell_type": "code",
   "execution_count": null,
   "id": "f645fd64",
   "metadata": {},
   "outputs": [],
   "source": [
    "numplots = 3\n",
    "fig, axs = plt.subplots(numplots, 3, figsize=(30, 40), dpi=300)\n",
    "\n",
    "si = 0\n",
    "sj =0\n",
    "for bone in hinges2plot :\n",
    "\n",
    "    bone_nameFD = \"FD_QPos_\"+bone\n",
    "    bone_namePupet = \"Pupet_QPos_K_\"+bone\n",
    "    \n",
    "\n",
    "    axs[si,sj].plot(ObsFD['time'], ObsFD[bone_nameFD          ] , 'r', label='x FD')\n",
    "    axs[si,sj].plot(ObsFD['time'],  ObsFD[bone_namePupet    ] , '--r', label='x pupet')\n",
    "\n",
    "    \n",
    "    title = \"comparison of FD and pupet qPos for \" + bone\n",
    "    axs[si,sj].legend(loc = \"upper right\")\n",
    "    axs[si,sj].title.set_text(title)\n",
    "    #print(\"simple hinges: \" + str(si)  + \" \"  + str(sj))\n",
    "    si +=1\n",
    "    if(si >= numplots):\n",
    "        si=0\n",
    "        sj+=1\n",
    "        \n",
    "\n",
    "for bones in pairedhinges2plot :\n",
    "\n",
    "    boneindex = [0,1,2]\n",
    "    colors = ['r','g','b']\n",
    "    legendFD = ['x FD','y FD','z FD']\n",
    "    legendPupet = ['x Pupet','y Pupet','z Pupet']\n",
    "    for bi in boneindex:\n",
    "        if( len(bones[bi]) > 0):\n",
    "            bone = bones[bi]\n",
    "            #print(\"drawing \"+ bone + \" index: \" + str(bi) + \"legend: \" + legendFD[bi])\n",
    "            \n",
    "            bone_nameFD = \"FD_QPos_\"+bone\n",
    "            bone_namePupet = \"Pupet_QPos_K_\"+bone\n",
    "\n",
    "\n",
    "            axs[si,sj].plot(ObsFD['time'], ObsFD[bone_nameFD          ] , colors[bi], label = legendFD[bi])\n",
    "            axs[si,sj].plot(ObsFD['time'],  ObsFD[bone_namePupet    ] , '--'+colors[bi], label = legendPupet[bi])\n",
    "\n",
    "    title = \"comparison of FD and pupet qPos for \" + bone\n",
    "    #print(\"double indices: \" + str(si)  + \" \"  + str(sj))  \n",
    "    axs[si,sj].title.set_text(title)\n",
    "    axs[si,sj].legend(loc = \"upper right\")\n",
    "    si +=1\n",
    "    if(si >= numplots):\n",
    "        si=0\n",
    "        sj+=1\n",
    "   \n",
    "   \n"
   ]
  },
  {
   "cell_type": "code",
   "execution_count": null,
   "id": "ff97d777",
   "metadata": {},
   "outputs": [],
   "source": [
    "\n",
    "        \n",
    "  "
   ]
  }
 ],
 "metadata": {
  "kernelspec": {
   "display_name": "Python 3 (ipykernel)",
   "language": "python",
   "name": "python3"
  },
  "language_info": {
   "codemirror_mode": {
    "name": "ipython",
    "version": 3
   },
   "file_extension": ".py",
   "mimetype": "text/x-python",
   "name": "python",
   "nbconvert_exporter": "python",
   "pygments_lexer": "ipython3",
   "version": "3.8.16"
  }
 },
 "nbformat": 4,
 "nbformat_minor": 5
}
