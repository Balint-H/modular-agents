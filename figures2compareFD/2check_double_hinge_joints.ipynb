{
 "cells": [
  {
   "cell_type": "code",
   "execution_count": null,
   "id": "ed671e04",
   "metadata": {},
   "outputs": [],
   "source": [
    "import pandas as pd\n",
    "import numpy as np\n",
    "import pylab as plt\n",
    "\n",
    "\n",
    "commonaxis = [20, 120, 10, 70]"
   ]
  },
  {
   "cell_type": "code",
   "execution_count": null,
   "id": "bd4a79fb",
   "metadata": {},
   "outputs": [],
   "source": [
    "\n",
    "#ObsFD=pd.read_csv('logPoseDoubleHingeV22onlysecondsibling.csv', sep=',')\n",
    "ObsFD=pd.read_csv('logPoseDoubleHingeV29_2siblings.csv', sep=',')\n",
    "\n",
    "\n",
    "\n",
    "\n",
    "#ObsFD=pd.read_csv('logPoseObsRewards18.csv', sep=',') ##attempt to fix the problems in double joitns wihtout quaternion inversion\n",
    "\n",
    "ObsFD.columns"
   ]
  },
  {
   "cell_type": "code",
   "execution_count": null,
   "id": "cc8b767a",
   "metadata": {},
   "outputs": [],
   "source": [
    "balls2plot = ['lfemur','rfemur',\n",
    " 'lowerback',\n",
    " 'thorax',\n",
    " 'head',\n",
    " 'lhumerus', 'rhumerus']\n",
    "\n",
    "hinges2plot = ['ltibiarx','lradiusrx', 'rtibiarx','rradiusrx'] # 4\n",
    "pairedhinges2plot = [['lfootrx','' ,'lfootrz'],\n",
    "                     ['rfootrx','' ,'rfootrz'],\n",
    "                     ['' , 'upperbackry','upperbackrz'],\n",
    "                     ['','lclaviclery' , 'lclaviclerz'],\n",
    "                     ['','rclaviclery' , 'rclaviclerz']] #5"
   ]
  },
  {
   "cell_type": "code",
   "execution_count": null,
   "id": "f645fd64",
   "metadata": {},
   "outputs": [],
   "source": [
    "numplots = 3\n",
    "fig, axs = plt.subplots(numplots, 3, figsize=(30, 40), dpi=300)\n",
    "\n",
    "si = 0\n",
    "sj =0\n",
    "for bone in hinges2plot :\n",
    "\n",
    "    bone_nameFD = \"FD_QPos_\"+bone\n",
    "    bone_namePupet = \"Pupet_QPos_K_\"+bone\n",
    "    \n",
    "\n",
    "    axs[si,sj].plot(ObsFD['time'], ObsFD[bone_nameFD          ] + 0.1, 'r', label='x FD')\n",
    "    axs[si,sj].plot(ObsFD['time'],  ObsFD[bone_namePupet    ] , '--r', label='x pupet')\n",
    "\n",
    "    \n",
    "    title = \"comparison of FD and pupet qPos for \" + bone\n",
    "    axs[si,sj].legend(loc = \"upper right\")\n",
    "    axs[si,sj].title.set_text(title)\n",
    "    #print(\"simple hinges: \" + str(si)  + \" \"  + str(sj))\n",
    "    si +=1\n",
    "    if(si >= numplots):\n",
    "        si=0\n",
    "        sj+=1\n",
    "        \n",
    "\n",
    "for bones in pairedhinges2plot :\n",
    "\n",
    "    boneindex = [0,1,2]\n",
    "    colors = ['r','g','b']\n",
    "    legendFD = ['x FD','y FD','z FD']\n",
    "    legendPupet = ['x Pupet','y Pupet','z Pupet']\n",
    "    for bi in boneindex:\n",
    "        if( len(bones[bi]) > 0):\n",
    "            bone = bones[bi]\n",
    "            #print(\"drawing \"+ bone + \" index: \" + str(bi) + \"legend: \" + legendFD[bi])\n",
    "            \n",
    "            bone_nameFD = \"FD_QPos_\"+bone\n",
    "            bone_namePupet = \"Pupet_QPos_K_\"+bone\n",
    "\n",
    "\n",
    "            axs[si,sj].plot(ObsFD['time'], ObsFD[bone_nameFD          ] +0.02, colors[bi], label = legendFD[bi])\n",
    "            axs[si,sj].plot(ObsFD['time'],  ObsFD[bone_namePupet    ] , '--'+colors[bi], label = legendPupet[bi])\n",
    "\n",
    "    title = \"comparison of FD and pupet qPos for \" + bone\n",
    "    #print(\"double indices: \" + str(si)  + \" \"  + str(sj))  \n",
    "    axs[si,sj].title.set_text(title)\n",
    "    axs[si,sj].legend(loc = \"upper right\")\n",
    "    si +=1\n",
    "    if(si >= numplots):\n",
    "        si=0\n",
    "        sj+=1\n",
    "   \n",
    "   \n"
   ]
  }
 ],
 "metadata": {
  "kernelspec": {
   "display_name": "Python 3 (ipykernel)",
   "language": "python",
   "name": "python3"
  },
  "language_info": {
   "codemirror_mode": {
    "name": "ipython",
    "version": 3
   },
   "file_extension": ".py",
   "mimetype": "text/x-python",
   "name": "python",
   "nbconvert_exporter": "python",
   "pygments_lexer": "ipython3",
   "version": "3.8.16"
  }
 },
 "nbformat": 4,
 "nbformat_minor": 5
}
